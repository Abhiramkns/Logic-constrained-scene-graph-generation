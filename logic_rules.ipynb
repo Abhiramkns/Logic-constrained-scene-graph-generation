{
 "cells": [
  {
   "cell_type": "code",
   "execution_count": 2,
   "id": "674ec1c8",
   "metadata": {},
   "outputs": [],
   "source": [
    "import h5py    \n",
    "import numpy as np    \n",
    "f1 = h5py.File('mini_VG-SGG.h5','r')    "
   ]
  },
  {
   "cell_type": "code",
   "execution_count": 3,
   "id": "5e89fac1",
   "metadata": {},
   "outputs": [
    {
     "data": {
      "text/plain": [
       "['active_object_mask',\n",
       " 'boxes_1024',\n",
       " 'boxes_512',\n",
       " 'img_to_first_box',\n",
       " 'img_to_first_rel',\n",
       " 'img_to_last_box',\n",
       " 'img_to_last_rel',\n",
       " 'labels',\n",
       " 'predicates',\n",
       " 'relationships',\n",
       " 'split']"
      ]
     },
     "execution_count": 3,
     "metadata": {},
     "output_type": "execute_result"
    }
   ],
   "source": [
    "list(f1.keys())"
   ]
  },
  {
   "cell_type": "code",
   "execution_count": 3,
   "id": "a809f616",
   "metadata": {},
   "outputs": [],
   "source": [
    "import json\n",
    "\n",
    "df = json.load(open('mini_VG-SGG-dicts.json'))\n",
    "idx_to_labels = df['idx_to_label']\n",
    "idx_to_predicates = df['idx_to_predicate']"
   ]
  },
  {
   "cell_type": "code",
   "execution_count": 4,
   "id": "da909e56",
   "metadata": {},
   "outputs": [],
   "source": [
    "import aima.utils as au\n",
    "import aima.logic as al"
   ]
  },
  {
   "cell_type": "code",
   "execution_count": 5,
   "id": "b6ad027b",
   "metadata": {},
   "outputs": [],
   "source": [
    "from collections import defaultdict, deque"
   ]
  },
  {
   "cell_type": "code",
   "execution_count": 6,
   "id": "dd3d5617",
   "metadata": {},
   "outputs": [],
   "source": [
    "def return_set():\n",
    "    return set()"
   ]
  },
  {
   "cell_type": "code",
   "execution_count": 7,
   "id": "0edbf63d",
   "metadata": {},
   "outputs": [],
   "source": [
    "dic = defaultdict(return_set)"
   ]
  },
  {
   "cell_type": "code",
   "execution_count": 8,
   "id": "268248b9",
   "metadata": {},
   "outputs": [],
   "source": [
    "n = len(f1['relationships'])"
   ]
  },
  {
   "cell_type": "code",
   "execution_count": 9,
   "id": "835e9f26",
   "metadata": {},
   "outputs": [],
   "source": [
    "objects_to_var = {}\n",
    "rel_to_var = {}"
   ]
  },
  {
   "cell_type": "code",
   "execution_count": 10,
   "id": "5f790c1b",
   "metadata": {},
   "outputs": [],
   "source": [
    "for i in range(n):\n",
    "    sub, obj, rel = f1['relationships'][i][0], f1['relationships'][i][1], f1['predicates'][i]\n",
    "    dic[(idx_to_labels[str(f1['labels'][sub][0])].upper(), idx_to_predicates[str(rel[0])].upper().replace(\" \", \"_\"))].add(idx_to_labels[str(f1['labels'][obj][0])].upper())"
   ]
  },
  {
   "cell_type": "code",
   "execution_count": 19,
   "id": "7e13617d",
   "metadata": {},
   "outputs": [],
   "source": [
    "clauses = []\n",
    "\n",
    "for k in dic:\n",
    "    tail = ''\n",
    "    for i, p in enumerate(list(dic[k])):\n",
    "        if i == 0:\n",
    "            tail += f'{p}(v_2)'\n",
    "        else:\n",
    "            tail += f' | {p}(v_2)'\n",
    "    tail = f'{tail}'\n",
    "    logic = f'({k[0]}(v_1) & {k[1]}(v_1, v_2)) ==> ({tail})'\n",
    "    clauses.append(au.expr(logic))"
   ]
  },
  {
   "cell_type": "code",
   "execution_count": 20,
   "id": "d0b0c379",
   "metadata": {},
   "outputs": [
    {
     "data": {
      "text/plain": [
       "((HEAD(v_1) & OF(v_1, v_2)) ==> (((((((((((((((HORSE(v_2) | ZEBRA(v_2)) | TRAIN(v_2)) | ANIMAL(v_2)) | GIRAFFE(v_2)) | BOY(v_2)) | MAN(v_2)) | CAT(v_2)) | PERSON(v_2)) | DOG(v_2)) | GIRL(v_2)) | WOMAN(v_2)) | ELEPHANT(v_2)) | COW(v_2)) | SHEEP(v_2)) | BIRD(v_2)))"
      ]
     },
     "execution_count": 20,
     "metadata": {},
     "output_type": "execute_result"
    }
   ],
   "source": [
    "clauses[0]"
   ]
  },
  {
   "cell_type": "code",
   "execution_count": 21,
   "id": "2b7e98f4",
   "metadata": {},
   "outputs": [
    {
     "ename": "Exception",
     "evalue": "Not a definite clause: ((HEAD(v_1) & OF(v_1, v_2)) ==> (((((((((((((((HORSE(v_2) | ZEBRA(v_2)) | TRAIN(v_2)) | ANIMAL(v_2)) | GIRAFFE(v_2)) | BOY(v_2)) | MAN(v_2)) | CAT(v_2)) | PERSON(v_2)) | DOG(v_2)) | GIRL(v_2)) | WOMAN(v_2)) | ELEPHANT(v_2)) | COW(v_2)) | SHEEP(v_2)) | BIRD(v_2)))",
     "output_type": "error",
     "traceback": [
      "\u001b[0;31m---------------------------------------------------------------------------\u001b[0m",
      "\u001b[0;31mException\u001b[0m                                 Traceback (most recent call last)",
      "Cell \u001b[0;32mIn[21], line 1\u001b[0m\n\u001b[0;32m----> 1\u001b[0m KB \u001b[38;5;241m=\u001b[39m \u001b[43mal\u001b[49m\u001b[38;5;241;43m.\u001b[39;49m\u001b[43mFolKB\u001b[49m\u001b[43m(\u001b[49m\u001b[43mclauses\u001b[49m\u001b[43m)\u001b[49m\n",
      "File \u001b[0;32m~/anaconda3/envs/prproject/lib/python3.9/site-packages/aima/logic.py:1937\u001b[0m, in \u001b[0;36mFolKB.__init__\u001b[0;34m(self, clauses)\u001b[0m\n\u001b[1;32m   1935\u001b[0m \u001b[38;5;28;01mif\u001b[39;00m clauses:\n\u001b[1;32m   1936\u001b[0m     \u001b[38;5;28;01mfor\u001b[39;00m clause \u001b[38;5;129;01min\u001b[39;00m clauses:\n\u001b[0;32m-> 1937\u001b[0m         \u001b[38;5;28;43mself\u001b[39;49m\u001b[38;5;241;43m.\u001b[39;49m\u001b[43mtell\u001b[49m\u001b[43m(\u001b[49m\u001b[43mclause\u001b[49m\u001b[43m)\u001b[49m\n",
      "File \u001b[0;32m~/anaconda3/envs/prproject/lib/python3.9/site-packages/aima/logic.py:1943\u001b[0m, in \u001b[0;36mFolKB.tell\u001b[0;34m(self, sentence)\u001b[0m\n\u001b[1;32m   1941\u001b[0m     \u001b[38;5;28mself\u001b[39m\u001b[38;5;241m.\u001b[39mclauses\u001b[38;5;241m.\u001b[39mappend(sentence)\n\u001b[1;32m   1942\u001b[0m \u001b[38;5;28;01melse\u001b[39;00m:\n\u001b[0;32m-> 1943\u001b[0m     \u001b[38;5;28;01mraise\u001b[39;00m \u001b[38;5;167;01mException\u001b[39;00m(\u001b[38;5;124m'\u001b[39m\u001b[38;5;124mNot a definite clause: \u001b[39m\u001b[38;5;132;01m{}\u001b[39;00m\u001b[38;5;124m'\u001b[39m\u001b[38;5;241m.\u001b[39mformat(sentence))\n",
      "\u001b[0;31mException\u001b[0m: Not a definite clause: ((HEAD(v_1) & OF(v_1, v_2)) ==> (((((((((((((((HORSE(v_2) | ZEBRA(v_2)) | TRAIN(v_2)) | ANIMAL(v_2)) | GIRAFFE(v_2)) | BOY(v_2)) | MAN(v_2)) | CAT(v_2)) | PERSON(v_2)) | DOG(v_2)) | GIRL(v_2)) | WOMAN(v_2)) | ELEPHANT(v_2)) | COW(v_2)) | SHEEP(v_2)) | BIRD(v_2)))"
     ]
    }
   ],
   "source": [
    "KB = al.FolKB(clauses)"
   ]
  },
  {
   "cell_type": "code",
   "execution_count": null,
   "id": "39fb7fad",
   "metadata": {},
   "outputs": [],
   "source": []
  }
 ],
 "metadata": {
  "kernelspec": {
   "display_name": "prproject",
   "language": "python",
   "name": "python3"
  },
  "language_info": {
   "codemirror_mode": {
    "name": "ipython",
    "version": 3
   },
   "file_extension": ".py",
   "mimetype": "text/x-python",
   "name": "python",
   "nbconvert_exporter": "python",
   "pygments_lexer": "ipython3",
   "version": "3.9.18"
  }
 },
 "nbformat": 4,
 "nbformat_minor": 5
}
