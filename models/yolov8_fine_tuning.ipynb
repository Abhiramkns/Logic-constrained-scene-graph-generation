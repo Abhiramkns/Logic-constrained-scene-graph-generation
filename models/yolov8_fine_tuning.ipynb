{
  "cells": [
    {
      "cell_type": "code",
      "execution_count": 1,
      "metadata": {
        "id": "2sfpMPr2fqJU"
      },
      "outputs": [],
      "source": [
        "import json\n",
        "import h5py\n",
        "from math import floor"
      ]
    },
    {
      "cell_type": "code",
      "execution_count": 2,
      "metadata": {
        "id": "Pr0D7rIHfyC_"
      },
      "outputs": [],
      "source": [
        "vg_sgg = h5py.File('../data//mini_VG-SGG.h5')\n",
        "imdb = h5py.File('../data/mini_imdb_1024.h5')"
      ]
    },
    {
      "cell_type": "code",
      "execution_count": 6,
      "metadata": {},
      "outputs": [],
      "source": [
        "# import shutil\n",
        "\n",
        "# shutil.rmtree('../data/train/images')\n",
        "# shutil.rmtree('../data/train/labels')\n",
        "# shutil.rmtree('../data/val/images')\n",
        "# shutil.rmtree('../data/val/labels')"
      ]
    },
    {
      "cell_type": "code",
      "execution_count": 7,
      "metadata": {
        "id": "4tRL9DyIGbkk"
      },
      "outputs": [],
      "source": [
        "import os\n",
        "\n",
        "train_image_dir = '../data/train/images'\n",
        "train_label_dir = '../data/train/labels'\n",
        "val_image_dir = '../data/val/images'\n",
        "val_label_dir = '../data/val/labels'\n",
        "os.makedirs(train_image_dir, exist_ok=True)\n",
        "os.makedirs(val_label_dir, exist_ok=True)\n",
        "os.makedirs(train_label_dir, exist_ok=True)\n",
        "os.makedirs(val_image_dir, exist_ok=True)"
      ]
    },
    {
      "cell_type": "code",
      "execution_count": 8,
      "metadata": {
        "id": "CVsQKvlEJWRK"
      },
      "outputs": [],
      "source": [
        "from PIL import Image"
      ]
    },
    {
      "cell_type": "code",
      "execution_count": 9,
      "metadata": {},
      "outputs": [],
      "source": [
        "# %matplotlib inline\n",
        "# import matplotlib.pyplot as plt\n",
        "# import matplotlib.patches as patches\n",
        "# from math import ceil, floor\n",
        "\n",
        "# idx = 0\n",
        "# start = vg_sgg['img_to_first_box'][idx]\n",
        "# end = vg_sgg['img_to_last_box'][idx]\n",
        "\n",
        "# img = imdb['images'][idx]\n",
        "# img = img.transpose(1, 2, 0)\n",
        "# b = img[:][:][0].copy()\n",
        "# img[:][:][0] = img[:][:][2]\n",
        "# img[:][:][2] = b\n",
        "\n",
        "# # ori_h = imdb['original_heights'][idx]\n",
        "# # ori_w = imdb['original_widths'][idx]\n",
        "# # w, h = 1024, 1024\n",
        "# # if ori_h > ori_w:\n",
        "# #   rw = ceil((1024.0/ori_h)*ori_w)\n",
        "# #   w = rw\n",
        "# # else:\n",
        "# #   rh = ceil((1024.0/ori_w)*ori_h)\n",
        "# #   h = rh\n",
        "# # print(h, w)\n",
        "# # ori_img = np.zeros((h, w, 3))\n",
        "# # ori_img = img[:h][:w][:]\n",
        "# # img = ori_img\n",
        "\n",
        "# img = Image.fromarray(img)\n",
        "# source_size = 1024\n",
        "# target_size = 640\n",
        "\n",
        "# img = img.resize((target_size, target_size))\n",
        "\n",
        "# fig, ax = plt.subplots()\n",
        "\n",
        "# ax.imshow(img)\n",
        "\n",
        "# box_type = 'boxes_1024'\n",
        "\n",
        "# end = start + min(3, end-start+1)\n",
        "# for i in range(start, end):\n",
        "#     x_c = (float(vg_sgg[box_type][i][0])/source_size)*target_size\n",
        "#     y_c = (float(vg_sgg[box_type][i][1])/source_size)*target_size\n",
        "#     w = min(1.0, float(vg_sgg[box_type][i][2])/source_size)*target_size\n",
        "#     h = min(1.0, float(vg_sgg[box_type][i][3])/source_size)*target_size\n",
        "#     # w = vg_sgg[box_type][i][2]\n",
        "#     # h = vg_sgg[box_type][i][3]\n",
        "#     # x_c = vg_sgg[box_type][i][0]\n",
        "#     # y_c = vg_sgg[box_type][i][1]\n",
        "#     x = ceil(x_c - (w/2))\n",
        "#     y = ceil(y_c - (h/2))\n",
        "#     print(x, y, w, h)\n",
        "#     rect = patches.Rectangle((x,  y), w, h, linewidth=1, edgecolor='r', facecolor='none', label='hello')\n",
        "#     ax.add_patch(rect)\n",
        "\n",
        "# plt.show()\n"
      ]
    },
    {
      "cell_type": "code",
      "execution_count": 10,
      "metadata": {
        "id": "cGqdea4mqhst"
      },
      "outputs": [
        {
          "name": "stderr",
          "output_type": "stream",
          "text": [
            "/Users/abhiram/miniconda3/envs/prpoject/lib/python3.10/site-packages/tqdm/auto.py:21: TqdmWarning: IProgress not found. Please update jupyter and ipywidgets. See https://ipywidgets.readthedocs.io/en/stable/user_install.html\n",
            "  from .autonotebook import tqdm as notebook_tqdm\n"
          ]
        }
      ],
      "source": [
        "from tqdm.auto import tqdm\n",
        "\n",
        "def annotate(s, e, image_dir):\n",
        "\n",
        "  for idx in tqdm(range(s, e)):\n",
        "    start = vg_sgg['img_to_first_box'][idx]\n",
        "    end = vg_sgg['img_to_last_box'][idx]\n",
        "\n",
        "    if start < 0 or end < 0:\n",
        "      continue\n",
        "\n",
        "    image_path = f'{image_dir}/images/{idx:06d}.png'\n",
        "    label_path = f'{image_dir}/labels/{idx:06d}.txt'\n",
        "    img = imdb['images'][idx]\n",
        "    img = img.transpose(1, 2, 0)\n",
        "    b = img[:][:][0].copy()\n",
        "    img[:][:][0] = img[:][:][2]\n",
        "    img[:][:][2] = b\n",
        "    img = Image.fromarray(img)\n",
        "    img.save(image_path)\n",
        "\n",
        "    box_type = 'boxes_1024'\n",
        "    source_img_size = 1024\n",
        "    labels = []\n",
        "    for i in range(start, end):\n",
        "      label = str(vg_sgg['labels'][i][0])\n",
        "      x_c = vg_sgg[box_type][i][0]/source_img_size\n",
        "      y_c = vg_sgg[box_type][i][1]/source_img_size\n",
        "      w = min(1, vg_sgg[box_type][i][2]/source_img_size)\n",
        "      h = min(1, vg_sgg[box_type][i][3]/source_img_size)\n",
        "\n",
        "\n",
        "      label = str(int(label)-1)\n",
        "      label = label + f' {x_c} {y_c} {w} {h}'\n",
        "      labels.append(label)\n",
        "\n",
        "    labels = '\\n'.join(labels)\n",
        "    with open(label_path, 'w') as f:\n",
        "      f.write(labels)"
      ]
    },
    {
      "cell_type": "code",
      "execution_count": 11,
      "metadata": {
        "colab": {
          "base_uri": "https://localhost:8080/",
          "height": 81,
          "referenced_widgets": [
            "fda9874430124e6cb01388f6bda4d1a1",
            "a686ac40e8834520aa11b1b68bafff79",
            "bf0dc94fd43145d88e4dfd54a0fc7fd0",
            "a6599d94c5fe4e82999ff88599e458dd",
            "a1ae2ec5be114cf8b1e3b46b0cad27ff",
            "8269d79a6fcc47bfa4b0dfe206064219",
            "4a5c9eada4cb4c9e9833a6bb2345d4dd",
            "d361fa83cde04e95aede1dcfb7750855",
            "0a55e19914a24b3fb0a37e71044aad33",
            "5c3b3d45543640e2ae5f253c20264118",
            "2077ed19e98744e38506d689a2da675a",
            "415e4a97044147d383180dca4435dcb3",
            "3554d94ff22840a09ffbcde99f921a46",
            "a790e55cb6544897969181305443733c",
            "abe9a0b7c60b48f796c852fb72c52f4a",
            "5b7ea317839c4096a30bb3267fb3b0ac",
            "31cde4cfa1b642fd83d54a366b246d0e",
            "da3ef5d8461649579561894c65116751",
            "5a677481368b4f4c82fcdb94ce4e677a",
            "89814a0c37874f87b809f15662cd429a",
            "4c710ca21c8a4d5a9431d6fbcbc7a551",
            "6c5ef4d64d56468e894ee1fac9a23b4b"
          ]
        },
        "id": "_KMTjZ08NQOA",
        "outputId": "36f67140-8eb9-4dd1-b5c8-0a8e18055617"
      },
      "outputs": [
        {
          "name": "stderr",
          "output_type": "stream",
          "text": [
            "  0%|          | 0/700 [00:00<?, ?it/s]"
          ]
        },
        {
          "name": "stderr",
          "output_type": "stream",
          "text": [
            "100%|██████████| 700/700 [02:20<00:00,  4.98it/s]\n",
            "100%|██████████| 300/300 [00:59<00:00,  5.03it/s]\n"
          ]
        }
      ],
      "source": [
        "annotate(0, 700, '../data/train')\n",
        "annotate(700, 1000, '../data/val')"
      ]
    },
    {
      "cell_type": "code",
      "execution_count": 12,
      "metadata": {
        "id": "r6SkJoCILwDm"
      },
      "outputs": [],
      "source": [
        "f = open('../data/mini_VG-SGG-dicts.json')\n",
        "labels = json.load(f)"
      ]
    },
    {
      "cell_type": "code",
      "execution_count": 13,
      "metadata": {
        "id": "JEokL8JPLrKo"
      },
      "outputs": [],
      "source": [
        "names = {}\n",
        "\n",
        "for k in labels['idx_to_label']:\n",
        "  names[int(k)-1] = labels['idx_to_label'][k]\n",
        "\n"
      ]
    },
    {
      "cell_type": "code",
      "execution_count": 14,
      "metadata": {
        "id": "hFFYW4yOL4hM"
      },
      "outputs": [],
      "source": [
        "import yaml\n",
        "\n",
        "config = {\n",
        "    'names': names,\n",
        "    'train': '/Users/abhiram/PRProject/PRProject/data/train/images',\n",
        "    'val': '/Users/abhiram/PRProject/PRProject/data/val/images'\n",
        "}\n",
        "\n",
        "with open('../data/data.yaml', 'w') as f:\n",
        "    yaml.dump(config, f)"
      ]
    },
    {
      "cell_type": "code",
      "execution_count": 15,
      "metadata": {
        "id": "jyXmzfgROFsC"
      },
      "outputs": [],
      "source": [
        "from ultralytics import YOLO"
      ]
    },
    {
      "cell_type": "code",
      "execution_count": 16,
      "metadata": {
        "colab": {
          "base_uri": "https://localhost:8080/"
        },
        "id": "yoe3zIcnN8-m",
        "outputId": "95098c29-d436-43ad-8fbe-4d890c6e4adb"
      },
      "outputs": [],
      "source": [
        "yolo = YOLO('yolov8n.pt')"
      ]
    },
    {
      "cell_type": "code",
      "execution_count": null,
      "metadata": {
        "colab": {
          "base_uri": "https://localhost:8080/"
        },
        "id": "Cnj4T6oMOBOj",
        "outputId": "20d76717-f785-4b8e-a98b-6c2985e91ec9"
      },
      "outputs": [],
      "source": [
        "yolo.train(data='../data/data.yaml', epochs=10, device='mps')"
      ]
    },
    {
      "cell_type": "code",
      "execution_count": null,
      "metadata": {
        "id": "pVQDu3ExOJwN"
      },
      "outputs": [],
      "source": [
        "valid_results = yolo.val()\n",
        "print(valid_results)"
      ]
    },
    {
      "cell_type": "code",
      "execution_count": null,
      "metadata": {
        "id": "dbaImwiihGOH"
      },
      "outputs": [],
      "source": []
    },
    {
      "cell_type": "code",
      "execution_count": null,
      "metadata": {
        "id": "HnKXcQPlJU3M"
      },
      "outputs": [],
      "source": []
    }
  ],
  "metadata": {
    "accelerator": "GPU",
    "colab": {
      "gpuType": "T4",
      "provenance": []
    },
    "kernelspec": {
      "display_name": "prpoject",
      "language": "python",
      "name": "python3"
    },
    "language_info": {
      "codemirror_mode": {
        "name": "ipython",
        "version": 3
      },
      "file_extension": ".py",
      "mimetype": "text/x-python",
      "name": "python",
      "nbconvert_exporter": "python",
      "pygments_lexer": "ipython3",
      "version": "3.10.13"
    },
    "widgets": {
      "application/vnd.jupyter.widget-state+json": {
        "0a55e19914a24b3fb0a37e71044aad33": {
          "model_module": "@jupyter-widgets/controls",
          "model_module_version": "1.5.0",
          "model_name": "ProgressStyleModel",
          "state": {
            "_model_module": "@jupyter-widgets/controls",
            "_model_module_version": "1.5.0",
            "_model_name": "ProgressStyleModel",
            "_view_count": null,
            "_view_module": "@jupyter-widgets/base",
            "_view_module_version": "1.2.0",
            "_view_name": "StyleView",
            "bar_color": null,
            "description_width": ""
          }
        },
        "2077ed19e98744e38506d689a2da675a": {
          "model_module": "@jupyter-widgets/controls",
          "model_module_version": "1.5.0",
          "model_name": "DescriptionStyleModel",
          "state": {
            "_model_module": "@jupyter-widgets/controls",
            "_model_module_version": "1.5.0",
            "_model_name": "DescriptionStyleModel",
            "_view_count": null,
            "_view_module": "@jupyter-widgets/base",
            "_view_module_version": "1.2.0",
            "_view_name": "StyleView",
            "description_width": ""
          }
        },
        "31cde4cfa1b642fd83d54a366b246d0e": {
          "model_module": "@jupyter-widgets/base",
          "model_module_version": "1.2.0",
          "model_name": "LayoutModel",
          "state": {
            "_model_module": "@jupyter-widgets/base",
            "_model_module_version": "1.2.0",
            "_model_name": "LayoutModel",
            "_view_count": null,
            "_view_module": "@jupyter-widgets/base",
            "_view_module_version": "1.2.0",
            "_view_name": "LayoutView",
            "align_content": null,
            "align_items": null,
            "align_self": null,
            "border": null,
            "bottom": null,
            "display": null,
            "flex": null,
            "flex_flow": null,
            "grid_area": null,
            "grid_auto_columns": null,
            "grid_auto_flow": null,
            "grid_auto_rows": null,
            "grid_column": null,
            "grid_gap": null,
            "grid_row": null,
            "grid_template_areas": null,
            "grid_template_columns": null,
            "grid_template_rows": null,
            "height": null,
            "justify_content": null,
            "justify_items": null,
            "left": null,
            "margin": null,
            "max_height": null,
            "max_width": null,
            "min_height": null,
            "min_width": null,
            "object_fit": null,
            "object_position": null,
            "order": null,
            "overflow": null,
            "overflow_x": null,
            "overflow_y": null,
            "padding": null,
            "right": null,
            "top": null,
            "visibility": null,
            "width": null
          }
        },
        "3554d94ff22840a09ffbcde99f921a46": {
          "model_module": "@jupyter-widgets/controls",
          "model_module_version": "1.5.0",
          "model_name": "HTMLModel",
          "state": {
            "_dom_classes": [],
            "_model_module": "@jupyter-widgets/controls",
            "_model_module_version": "1.5.0",
            "_model_name": "HTMLModel",
            "_view_count": null,
            "_view_module": "@jupyter-widgets/controls",
            "_view_module_version": "1.5.0",
            "_view_name": "HTMLView",
            "description": "",
            "description_tooltip": null,
            "layout": "IPY_MODEL_31cde4cfa1b642fd83d54a366b246d0e",
            "placeholder": "​",
            "style": "IPY_MODEL_da3ef5d8461649579561894c65116751",
            "value": "100%"
          }
        },
        "415e4a97044147d383180dca4435dcb3": {
          "model_module": "@jupyter-widgets/controls",
          "model_module_version": "1.5.0",
          "model_name": "HBoxModel",
          "state": {
            "_dom_classes": [],
            "_model_module": "@jupyter-widgets/controls",
            "_model_module_version": "1.5.0",
            "_model_name": "HBoxModel",
            "_view_count": null,
            "_view_module": "@jupyter-widgets/controls",
            "_view_module_version": "1.5.0",
            "_view_name": "HBoxView",
            "box_style": "",
            "children": [
              "IPY_MODEL_3554d94ff22840a09ffbcde99f921a46",
              "IPY_MODEL_a790e55cb6544897969181305443733c",
              "IPY_MODEL_abe9a0b7c60b48f796c852fb72c52f4a"
            ],
            "layout": "IPY_MODEL_5b7ea317839c4096a30bb3267fb3b0ac"
          }
        },
        "4a5c9eada4cb4c9e9833a6bb2345d4dd": {
          "model_module": "@jupyter-widgets/controls",
          "model_module_version": "1.5.0",
          "model_name": "DescriptionStyleModel",
          "state": {
            "_model_module": "@jupyter-widgets/controls",
            "_model_module_version": "1.5.0",
            "_model_name": "DescriptionStyleModel",
            "_view_count": null,
            "_view_module": "@jupyter-widgets/base",
            "_view_module_version": "1.2.0",
            "_view_name": "StyleView",
            "description_width": ""
          }
        },
        "4c710ca21c8a4d5a9431d6fbcbc7a551": {
          "model_module": "@jupyter-widgets/base",
          "model_module_version": "1.2.0",
          "model_name": "LayoutModel",
          "state": {
            "_model_module": "@jupyter-widgets/base",
            "_model_module_version": "1.2.0",
            "_model_name": "LayoutModel",
            "_view_count": null,
            "_view_module": "@jupyter-widgets/base",
            "_view_module_version": "1.2.0",
            "_view_name": "LayoutView",
            "align_content": null,
            "align_items": null,
            "align_self": null,
            "border": null,
            "bottom": null,
            "display": null,
            "flex": null,
            "flex_flow": null,
            "grid_area": null,
            "grid_auto_columns": null,
            "grid_auto_flow": null,
            "grid_auto_rows": null,
            "grid_column": null,
            "grid_gap": null,
            "grid_row": null,
            "grid_template_areas": null,
            "grid_template_columns": null,
            "grid_template_rows": null,
            "height": null,
            "justify_content": null,
            "justify_items": null,
            "left": null,
            "margin": null,
            "max_height": null,
            "max_width": null,
            "min_height": null,
            "min_width": null,
            "object_fit": null,
            "object_position": null,
            "order": null,
            "overflow": null,
            "overflow_x": null,
            "overflow_y": null,
            "padding": null,
            "right": null,
            "top": null,
            "visibility": null,
            "width": null
          }
        },
        "5a677481368b4f4c82fcdb94ce4e677a": {
          "model_module": "@jupyter-widgets/base",
          "model_module_version": "1.2.0",
          "model_name": "LayoutModel",
          "state": {
            "_model_module": "@jupyter-widgets/base",
            "_model_module_version": "1.2.0",
            "_model_name": "LayoutModel",
            "_view_count": null,
            "_view_module": "@jupyter-widgets/base",
            "_view_module_version": "1.2.0",
            "_view_name": "LayoutView",
            "align_content": null,
            "align_items": null,
            "align_self": null,
            "border": null,
            "bottom": null,
            "display": null,
            "flex": null,
            "flex_flow": null,
            "grid_area": null,
            "grid_auto_columns": null,
            "grid_auto_flow": null,
            "grid_auto_rows": null,
            "grid_column": null,
            "grid_gap": null,
            "grid_row": null,
            "grid_template_areas": null,
            "grid_template_columns": null,
            "grid_template_rows": null,
            "height": null,
            "justify_content": null,
            "justify_items": null,
            "left": null,
            "margin": null,
            "max_height": null,
            "max_width": null,
            "min_height": null,
            "min_width": null,
            "object_fit": null,
            "object_position": null,
            "order": null,
            "overflow": null,
            "overflow_x": null,
            "overflow_y": null,
            "padding": null,
            "right": null,
            "top": null,
            "visibility": null,
            "width": null
          }
        },
        "5b7ea317839c4096a30bb3267fb3b0ac": {
          "model_module": "@jupyter-widgets/base",
          "model_module_version": "1.2.0",
          "model_name": "LayoutModel",
          "state": {
            "_model_module": "@jupyter-widgets/base",
            "_model_module_version": "1.2.0",
            "_model_name": "LayoutModel",
            "_view_count": null,
            "_view_module": "@jupyter-widgets/base",
            "_view_module_version": "1.2.0",
            "_view_name": "LayoutView",
            "align_content": null,
            "align_items": null,
            "align_self": null,
            "border": null,
            "bottom": null,
            "display": null,
            "flex": null,
            "flex_flow": null,
            "grid_area": null,
            "grid_auto_columns": null,
            "grid_auto_flow": null,
            "grid_auto_rows": null,
            "grid_column": null,
            "grid_gap": null,
            "grid_row": null,
            "grid_template_areas": null,
            "grid_template_columns": null,
            "grid_template_rows": null,
            "height": null,
            "justify_content": null,
            "justify_items": null,
            "left": null,
            "margin": null,
            "max_height": null,
            "max_width": null,
            "min_height": null,
            "min_width": null,
            "object_fit": null,
            "object_position": null,
            "order": null,
            "overflow": null,
            "overflow_x": null,
            "overflow_y": null,
            "padding": null,
            "right": null,
            "top": null,
            "visibility": null,
            "width": null
          }
        },
        "5c3b3d45543640e2ae5f253c20264118": {
          "model_module": "@jupyter-widgets/base",
          "model_module_version": "1.2.0",
          "model_name": "LayoutModel",
          "state": {
            "_model_module": "@jupyter-widgets/base",
            "_model_module_version": "1.2.0",
            "_model_name": "LayoutModel",
            "_view_count": null,
            "_view_module": "@jupyter-widgets/base",
            "_view_module_version": "1.2.0",
            "_view_name": "LayoutView",
            "align_content": null,
            "align_items": null,
            "align_self": null,
            "border": null,
            "bottom": null,
            "display": null,
            "flex": null,
            "flex_flow": null,
            "grid_area": null,
            "grid_auto_columns": null,
            "grid_auto_flow": null,
            "grid_auto_rows": null,
            "grid_column": null,
            "grid_gap": null,
            "grid_row": null,
            "grid_template_areas": null,
            "grid_template_columns": null,
            "grid_template_rows": null,
            "height": null,
            "justify_content": null,
            "justify_items": null,
            "left": null,
            "margin": null,
            "max_height": null,
            "max_width": null,
            "min_height": null,
            "min_width": null,
            "object_fit": null,
            "object_position": null,
            "order": null,
            "overflow": null,
            "overflow_x": null,
            "overflow_y": null,
            "padding": null,
            "right": null,
            "top": null,
            "visibility": null,
            "width": null
          }
        },
        "6c5ef4d64d56468e894ee1fac9a23b4b": {
          "model_module": "@jupyter-widgets/controls",
          "model_module_version": "1.5.0",
          "model_name": "DescriptionStyleModel",
          "state": {
            "_model_module": "@jupyter-widgets/controls",
            "_model_module_version": "1.5.0",
            "_model_name": "DescriptionStyleModel",
            "_view_count": null,
            "_view_module": "@jupyter-widgets/base",
            "_view_module_version": "1.2.0",
            "_view_name": "StyleView",
            "description_width": ""
          }
        },
        "8269d79a6fcc47bfa4b0dfe206064219": {
          "model_module": "@jupyter-widgets/base",
          "model_module_version": "1.2.0",
          "model_name": "LayoutModel",
          "state": {
            "_model_module": "@jupyter-widgets/base",
            "_model_module_version": "1.2.0",
            "_model_name": "LayoutModel",
            "_view_count": null,
            "_view_module": "@jupyter-widgets/base",
            "_view_module_version": "1.2.0",
            "_view_name": "LayoutView",
            "align_content": null,
            "align_items": null,
            "align_self": null,
            "border": null,
            "bottom": null,
            "display": null,
            "flex": null,
            "flex_flow": null,
            "grid_area": null,
            "grid_auto_columns": null,
            "grid_auto_flow": null,
            "grid_auto_rows": null,
            "grid_column": null,
            "grid_gap": null,
            "grid_row": null,
            "grid_template_areas": null,
            "grid_template_columns": null,
            "grid_template_rows": null,
            "height": null,
            "justify_content": null,
            "justify_items": null,
            "left": null,
            "margin": null,
            "max_height": null,
            "max_width": null,
            "min_height": null,
            "min_width": null,
            "object_fit": null,
            "object_position": null,
            "order": null,
            "overflow": null,
            "overflow_x": null,
            "overflow_y": null,
            "padding": null,
            "right": null,
            "top": null,
            "visibility": null,
            "width": null
          }
        },
        "89814a0c37874f87b809f15662cd429a": {
          "model_module": "@jupyter-widgets/controls",
          "model_module_version": "1.5.0",
          "model_name": "ProgressStyleModel",
          "state": {
            "_model_module": "@jupyter-widgets/controls",
            "_model_module_version": "1.5.0",
            "_model_name": "ProgressStyleModel",
            "_view_count": null,
            "_view_module": "@jupyter-widgets/base",
            "_view_module_version": "1.2.0",
            "_view_name": "StyleView",
            "bar_color": null,
            "description_width": ""
          }
        },
        "a1ae2ec5be114cf8b1e3b46b0cad27ff": {
          "model_module": "@jupyter-widgets/base",
          "model_module_version": "1.2.0",
          "model_name": "LayoutModel",
          "state": {
            "_model_module": "@jupyter-widgets/base",
            "_model_module_version": "1.2.0",
            "_model_name": "LayoutModel",
            "_view_count": null,
            "_view_module": "@jupyter-widgets/base",
            "_view_module_version": "1.2.0",
            "_view_name": "LayoutView",
            "align_content": null,
            "align_items": null,
            "align_self": null,
            "border": null,
            "bottom": null,
            "display": null,
            "flex": null,
            "flex_flow": null,
            "grid_area": null,
            "grid_auto_columns": null,
            "grid_auto_flow": null,
            "grid_auto_rows": null,
            "grid_column": null,
            "grid_gap": null,
            "grid_row": null,
            "grid_template_areas": null,
            "grid_template_columns": null,
            "grid_template_rows": null,
            "height": null,
            "justify_content": null,
            "justify_items": null,
            "left": null,
            "margin": null,
            "max_height": null,
            "max_width": null,
            "min_height": null,
            "min_width": null,
            "object_fit": null,
            "object_position": null,
            "order": null,
            "overflow": null,
            "overflow_x": null,
            "overflow_y": null,
            "padding": null,
            "right": null,
            "top": null,
            "visibility": null,
            "width": null
          }
        },
        "a6599d94c5fe4e82999ff88599e458dd": {
          "model_module": "@jupyter-widgets/controls",
          "model_module_version": "1.5.0",
          "model_name": "HTMLModel",
          "state": {
            "_dom_classes": [],
            "_model_module": "@jupyter-widgets/controls",
            "_model_module_version": "1.5.0",
            "_model_name": "HTMLModel",
            "_view_count": null,
            "_view_module": "@jupyter-widgets/controls",
            "_view_module_version": "1.5.0",
            "_view_name": "HTMLView",
            "description": "",
            "description_tooltip": null,
            "layout": "IPY_MODEL_5c3b3d45543640e2ae5f253c20264118",
            "placeholder": "​",
            "style": "IPY_MODEL_2077ed19e98744e38506d689a2da675a",
            "value": " 700/700 [04:27&lt;00:00,  2.49it/s]"
          }
        },
        "a686ac40e8834520aa11b1b68bafff79": {
          "model_module": "@jupyter-widgets/controls",
          "model_module_version": "1.5.0",
          "model_name": "HTMLModel",
          "state": {
            "_dom_classes": [],
            "_model_module": "@jupyter-widgets/controls",
            "_model_module_version": "1.5.0",
            "_model_name": "HTMLModel",
            "_view_count": null,
            "_view_module": "@jupyter-widgets/controls",
            "_view_module_version": "1.5.0",
            "_view_name": "HTMLView",
            "description": "",
            "description_tooltip": null,
            "layout": "IPY_MODEL_8269d79a6fcc47bfa4b0dfe206064219",
            "placeholder": "​",
            "style": "IPY_MODEL_4a5c9eada4cb4c9e9833a6bb2345d4dd",
            "value": "100%"
          }
        },
        "a790e55cb6544897969181305443733c": {
          "model_module": "@jupyter-widgets/controls",
          "model_module_version": "1.5.0",
          "model_name": "FloatProgressModel",
          "state": {
            "_dom_classes": [],
            "_model_module": "@jupyter-widgets/controls",
            "_model_module_version": "1.5.0",
            "_model_name": "FloatProgressModel",
            "_view_count": null,
            "_view_module": "@jupyter-widgets/controls",
            "_view_module_version": "1.5.0",
            "_view_name": "ProgressView",
            "bar_style": "success",
            "description": "",
            "description_tooltip": null,
            "layout": "IPY_MODEL_5a677481368b4f4c82fcdb94ce4e677a",
            "max": 300,
            "min": 0,
            "orientation": "horizontal",
            "style": "IPY_MODEL_89814a0c37874f87b809f15662cd429a",
            "value": 300
          }
        },
        "abe9a0b7c60b48f796c852fb72c52f4a": {
          "model_module": "@jupyter-widgets/controls",
          "model_module_version": "1.5.0",
          "model_name": "HTMLModel",
          "state": {
            "_dom_classes": [],
            "_model_module": "@jupyter-widgets/controls",
            "_model_module_version": "1.5.0",
            "_model_name": "HTMLModel",
            "_view_count": null,
            "_view_module": "@jupyter-widgets/controls",
            "_view_module_version": "1.5.0",
            "_view_name": "HTMLView",
            "description": "",
            "description_tooltip": null,
            "layout": "IPY_MODEL_4c710ca21c8a4d5a9431d6fbcbc7a551",
            "placeholder": "​",
            "style": "IPY_MODEL_6c5ef4d64d56468e894ee1fac9a23b4b",
            "value": " 300/300 [01:55&lt;00:00,  2.11it/s]"
          }
        },
        "bf0dc94fd43145d88e4dfd54a0fc7fd0": {
          "model_module": "@jupyter-widgets/controls",
          "model_module_version": "1.5.0",
          "model_name": "FloatProgressModel",
          "state": {
            "_dom_classes": [],
            "_model_module": "@jupyter-widgets/controls",
            "_model_module_version": "1.5.0",
            "_model_name": "FloatProgressModel",
            "_view_count": null,
            "_view_module": "@jupyter-widgets/controls",
            "_view_module_version": "1.5.0",
            "_view_name": "ProgressView",
            "bar_style": "success",
            "description": "",
            "description_tooltip": null,
            "layout": "IPY_MODEL_d361fa83cde04e95aede1dcfb7750855",
            "max": 700,
            "min": 0,
            "orientation": "horizontal",
            "style": "IPY_MODEL_0a55e19914a24b3fb0a37e71044aad33",
            "value": 700
          }
        },
        "d361fa83cde04e95aede1dcfb7750855": {
          "model_module": "@jupyter-widgets/base",
          "model_module_version": "1.2.0",
          "model_name": "LayoutModel",
          "state": {
            "_model_module": "@jupyter-widgets/base",
            "_model_module_version": "1.2.0",
            "_model_name": "LayoutModel",
            "_view_count": null,
            "_view_module": "@jupyter-widgets/base",
            "_view_module_version": "1.2.0",
            "_view_name": "LayoutView",
            "align_content": null,
            "align_items": null,
            "align_self": null,
            "border": null,
            "bottom": null,
            "display": null,
            "flex": null,
            "flex_flow": null,
            "grid_area": null,
            "grid_auto_columns": null,
            "grid_auto_flow": null,
            "grid_auto_rows": null,
            "grid_column": null,
            "grid_gap": null,
            "grid_row": null,
            "grid_template_areas": null,
            "grid_template_columns": null,
            "grid_template_rows": null,
            "height": null,
            "justify_content": null,
            "justify_items": null,
            "left": null,
            "margin": null,
            "max_height": null,
            "max_width": null,
            "min_height": null,
            "min_width": null,
            "object_fit": null,
            "object_position": null,
            "order": null,
            "overflow": null,
            "overflow_x": null,
            "overflow_y": null,
            "padding": null,
            "right": null,
            "top": null,
            "visibility": null,
            "width": null
          }
        },
        "da3ef5d8461649579561894c65116751": {
          "model_module": "@jupyter-widgets/controls",
          "model_module_version": "1.5.0",
          "model_name": "DescriptionStyleModel",
          "state": {
            "_model_module": "@jupyter-widgets/controls",
            "_model_module_version": "1.5.0",
            "_model_name": "DescriptionStyleModel",
            "_view_count": null,
            "_view_module": "@jupyter-widgets/base",
            "_view_module_version": "1.2.0",
            "_view_name": "StyleView",
            "description_width": ""
          }
        },
        "fda9874430124e6cb01388f6bda4d1a1": {
          "model_module": "@jupyter-widgets/controls",
          "model_module_version": "1.5.0",
          "model_name": "HBoxModel",
          "state": {
            "_dom_classes": [],
            "_model_module": "@jupyter-widgets/controls",
            "_model_module_version": "1.5.0",
            "_model_name": "HBoxModel",
            "_view_count": null,
            "_view_module": "@jupyter-widgets/controls",
            "_view_module_version": "1.5.0",
            "_view_name": "HBoxView",
            "box_style": "",
            "children": [
              "IPY_MODEL_a686ac40e8834520aa11b1b68bafff79",
              "IPY_MODEL_bf0dc94fd43145d88e4dfd54a0fc7fd0",
              "IPY_MODEL_a6599d94c5fe4e82999ff88599e458dd"
            ],
            "layout": "IPY_MODEL_a1ae2ec5be114cf8b1e3b46b0cad27ff"
          }
        }
      }
    }
  },
  "nbformat": 4,
  "nbformat_minor": 0
}
