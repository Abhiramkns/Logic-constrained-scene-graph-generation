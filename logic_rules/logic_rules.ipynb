{
 "cells": [
  {
   "cell_type": "code",
   "execution_count": 2,
   "id": "674ec1c8",
   "metadata": {},
   "outputs": [],
   "source": [
    "import h5py\n",
    "import numpy as np\n",
    "\n",
    "f1 = h5py.File(\"mini_VG-SGG.h5\", \"r\")"
   ]
  },
  {
   "cell_type": "code",
   "execution_count": 3,
   "id": "5e89fac1",
   "metadata": {},
   "outputs": [
    {
     "data": {
      "text/plain": [
       "['active_object_mask',\n",
       " 'boxes_1024',\n",
       " 'boxes_512',\n",
       " 'img_to_first_box',\n",
       " 'img_to_first_rel',\n",
       " 'img_to_last_box',\n",
       " 'img_to_last_rel',\n",
       " 'labels',\n",
       " 'predicates',\n",
       " 'relationships',\n",
       " 'split']"
      ]
     },
     "execution_count": 3,
     "metadata": {},
     "output_type": "execute_result"
    }
   ],
   "source": [
    "list(f1.keys())"
   ]
  },
  {
   "cell_type": "code",
   "execution_count": 3,
   "id": "a809f616",
   "metadata": {},
   "outputs": [],
   "source": [
    "import json\n",
    "\n",
    "df = json.load(open(\"mini_VG-SGG-dicts.json\"))\n",
    "idx_to_labels = df[\"idx_to_label\"]\n",
    "idx_to_predicates = df[\"idx_to_predicate\"]"
   ]
  },
  {
   "cell_type": "code",
   "execution_count": 8,
   "id": "268248b9",
   "metadata": {},
   "outputs": [],
   "source": [
    "n = len(f1[\"relationships\"])"
   ]
  },
  {
   "cell_type": "code",
   "execution_count": 9,
   "id": "835e9f26",
   "metadata": {},
   "outputs": [],
   "source": [
    "objects_to_var = {}\n",
    "rel_to_var = {}"
   ]
  },
  {
   "cell_type": "code",
   "execution_count": 10,
   "id": "5f790c1b",
   "metadata": {},
   "outputs": [],
   "source": [
    "for i in range(n):\n",
    "    sub, obj, rel = (\n",
    "        f1[\"relationships\"][i][0],\n",
    "        f1[\"relationships\"][i][1],\n",
    "        f1[\"predicates\"][i],\n",
    "    )\n",
    "    dic[\n",
    "        (\n",
    "            idx_to_labels[str(f1[\"labels\"][sub][0])].upper(),\n",
    "            idx_to_predicates[str(rel[0])].upper().replace(\" \", \"_\"),\n",
    "        )\n",
    "    ].add(idx_to_labels[str(f1[\"labels\"][obj][0])].upper())"
   ]
  },
  {
   "cell_type": "code",
   "execution_count": 19,
   "id": "7e13617d",
   "metadata": {},
   "outputs": [],
   "source": [
    "clauses = []\n",
    "\n",
    "for k in dic:\n",
    "    tail = \"\"\n",
    "    for i, p in enumerate(list(dic[k])):\n",
    "        if i == 0:\n",
    "            tail += f\"{p}(v_2)\"\n",
    "        else:\n",
    "            tail += f\" | {p}(v_2)\"\n",
    "    tail = f\"{tail}\"\n",
    "    logic = f\"({k[0]}(v_1) & {k[1]}(v_1, v_2)) ==> ({tail})\"\n",
    "    clauses.append(au.expr(logic))"
   ]
  },
  {
   "cell_type": "code",
   "execution_count": 1,
   "id": "fc1dad8e",
   "metadata": {},
   "outputs": [],
   "source": [
    "import ltn\n",
    "import torch"
   ]
  },
  {
   "cell_type": "code",
   "execution_count": 2,
   "id": "5b57a187",
   "metadata": {},
   "outputs": [],
   "source": [
    "# we define connectives, quantifiers, and SatAgg\n",
    "And = ltn.Connective(ltn.fuzzy_ops.AndProd())\n",
    "Not = ltn.Connective(ltn.fuzzy_ops.NotStandard())\n",
    "Implies = ltn.Connective(ltn.fuzzy_ops.ImpliesReichenbach())\n",
    "Exists = ltn.Quantifier(ltn.fuzzy_ops.AggregPMean(p=2), quantifier=\"e\")\n",
    "Forall = ltn.Quantifier(ltn.fuzzy_ops.AggregPMeanError(p=2), quantifier=\"f\")\n",
    "SatAgg = ltn.fuzzy_ops.SatAgg()"
   ]
  },
  {
   "cell_type": "code",
   "execution_count": null,
   "id": "52bd8a73",
   "metadata": {},
   "outputs": [],
   "source": []
  }
 ],
 "metadata": {
  "kernelspec": {
   "display_name": "prproject",
   "language": "python",
   "name": "python3"
  },
  "language_info": {
   "codemirror_mode": {
    "name": "ipython",
    "version": 3
   },
   "file_extension": ".py",
   "mimetype": "text/x-python",
   "name": "python",
   "nbconvert_exporter": "python",
   "pygments_lexer": "ipython3",
   "version": "3.9.18"
  }
 },
 "nbformat": 4,
 "nbformat_minor": 5
}
