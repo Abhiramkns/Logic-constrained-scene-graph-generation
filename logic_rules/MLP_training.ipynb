{
 "cells": [
  {
   "cell_type": "code",
   "execution_count": 1,
   "metadata": {},
   "outputs": [],
   "source": [
    "import torch\n",
    "import numpy as np\n",
    "from collections import defaultdict"
   ]
  },
  {
   "cell_type": "code",
   "execution_count": 2,
   "metadata": {},
   "outputs": [
    {
     "name": "stdout",
     "output_type": "stream",
     "text": [
      "No GPU available, using the CPU instead.\n"
     ]
    }
   ],
   "source": [
    "# If there's a GPU available...\n",
    "if torch.cuda.is_available():\n",
    "    # Tell PyTorch to use the GPU.\n",
    "    device = torch.device(\"cuda\")\n",
    "\n",
    "    print(\"There are %d GPU(s) available.\" % torch.cuda.device_count())\n",
    "\n",
    "    print(\"We will use the GPU:\", torch.cuda.get_device_name(0))\n",
    "\n",
    "# If not...\n",
    "# elif torch.backends.mps.is_available():\n",
    "#     device = torch.device(\"mps\")\n",
    "\n",
    "#     print(\"Using mps backend\")\n",
    "else:\n",
    "    print(\"No GPU available, using the CPU instead.\")\n",
    "    device = torch.device(\"cpu\")"
   ]
  },
  {
   "cell_type": "code",
   "execution_count": 3,
   "metadata": {},
   "outputs": [],
   "source": [
    "import h5py\n",
    "imdb = h5py.File('../data/imdb_1024.h5')\n",
    "sgdb = h5py.File('../data/VG-SGG.h5')\n",
    "\n",
    "import json\n",
    "with open('../data/VG-SGG-dicts.json') as f:\n",
    "    sgdicts = json.load(f)"
   ]
  },
  {
   "cell_type": "code",
   "execution_count": 4,
   "metadata": {},
   "outputs": [
    {
     "data": {
      "text/plain": [
       "10873"
      ]
     },
     "execution_count": 4,
     "metadata": {},
     "output_type": "execute_result"
    }
   ],
   "source": [
    "triplets = defaultdict(set)\n",
    "for i, s in enumerate(sgdb['relationships']):\n",
    "    sub = sgdb['labels'][s[0]][0]\n",
    "    obj = sgdb['labels'][s[1]][0]\n",
    "    rel = sgdb['predicates'][i][0]\n",
    "    triplets[(sub, obj)].add(rel)\n",
    "\n",
    "len(triplets)"
   ]
  },
  {
   "cell_type": "code",
   "execution_count": 5,
   "metadata": {},
   "outputs": [
    {
     "name": "stdout",
     "output_type": "stream",
     "text": [
      "10873\n",
      "10873\n",
      "10873\n",
      "torch.Size([10873, 150])\n",
      "torch.Size([10873, 150])\n",
      "torch.Size([10873, 50])\n"
     ]
    }
   ],
   "source": [
    "from tensordict import TensorDict\n",
    "subjects = []\n",
    "objects = []\n",
    "relations = []\n",
    "for k in triplets:\n",
    "    sub = torch.zeros(150)\n",
    "    sub[k[0]-1] = 1\n",
    "    obj = torch.zeros(150)\n",
    "    obj[k[1]-1] = 1\n",
    "    rels = torch.zeros(50)\n",
    "    for rel in triplets[k]:\n",
    "        rels[rel-1] = 1\n",
    "    subjects.append(sub)\n",
    "    objects.append(obj)\n",
    "    relations.append(rels)\n",
    "\n",
    "\n",
    "print(len(subjects))\n",
    "print(len(objects))\n",
    "print(len(relations))\n",
    "\n",
    "subjects = torch.vstack(subjects)\n",
    "objects = torch.vstack(objects)\n",
    "relations = torch.vstack(relations)\n",
    "\n",
    "print(subjects.shape)\n",
    "print(objects.shape)\n",
    "print(relations.shape)"
   ]
  },
  {
   "cell_type": "code",
   "execution_count": 6,
   "metadata": {},
   "outputs": [],
   "source": [
    "from torch.utils.data import TensorDataset, DataLoader, RandomSampler\n",
    "dataset = TensorDataset(subjects, objects, relations)\n",
    "batch_size = 32\n",
    "\n",
    "train_dataloader = DataLoader(\n",
    "            dataset,  # The training samples.\n",
    "            sampler = RandomSampler(dataset), # Select batches randomly\n",
    "            batch_size = batch_size # Trains with this batch size.\n",
    "        )\n"
   ]
  },
  {
   "cell_type": "code",
   "execution_count": 7,
   "metadata": {},
   "outputs": [
    {
     "data": {
      "text/plain": [
       "MLP(\n",
       "  (fc1): Linear(in_features=300, out_features=150, bias=True)\n",
       "  (dropout): Dropout(p=0.2, inplace=False)\n",
       "  (fc2): Linear(in_features=150, out_features=50, bias=True)\n",
       "  (softmax): Softmax(dim=0)\n",
       ")"
      ]
     },
     "execution_count": 7,
     "metadata": {},
     "output_type": "execute_result"
    }
   ],
   "source": [
    "class MLP(torch.nn.Module):\n",
    "    def __init__(self):\n",
    "        super(MLP, self).__init__()\n",
    "        self.fc1 = torch.nn.Linear(300, 150)\n",
    "        self.dropout = torch.nn.Dropout(p=0.2)\n",
    "        self.fc2 = torch.nn.Linear(150, 50)\n",
    "        self.softmax = torch.nn.Softmax(dim=0)\n",
    "\n",
    "    def forward(self, inputs1, inputs2):\n",
    "        inputs = torch.cat((inputs1, inputs2), dim=1)\n",
    "        inputs.to(device=device)\n",
    "        x = self.fc1(inputs)\n",
    "        x = self.dropout(x)\n",
    "        x = self.fc2(x)\n",
    "        x = self.softmax(x)\n",
    "        return x\n",
    "        \n",
    "model = MLP()\n",
    "model.to(device=device)"
   ]
  },
  {
   "cell_type": "code",
   "execution_count": 8,
   "metadata": {},
   "outputs": [],
   "source": [
    "criterion = torch.nn.MSELoss()\n",
    "optimizer = torch.optim.AdamW(model.parameters(), lr=1e-1)"
   ]
  },
  {
   "cell_type": "code",
   "execution_count": 9,
   "metadata": {},
   "outputs": [
    {
     "name": "stdout",
     "output_type": "stream",
     "text": [
      "Epoch 1 ===> Loss: 0.087\n",
      "Epoch 2 ===> Loss: 0.089\n",
      "Epoch 3 ===> Loss: 0.090\n",
      "Epoch 4 ===> Loss: 0.090\n",
      "Epoch 5 ===> Loss: 0.090\n",
      "Epoch 6 ===> Loss: 0.090\n",
      "Epoch 7 ===> Loss: 0.090\n",
      "Epoch 8 ===> Loss: 0.090\n",
      "Epoch 9 ===> Loss: 0.090\n",
      "Epoch 10 ===> Loss: 0.091\n"
     ]
    }
   ],
   "source": [
    "for epoch in range(10):\n",
    "    model.train()\n",
    "    average_loss = 0\n",
    "    for batch in train_dataloader:\n",
    "        model.zero_grad()\n",
    "        subjects_ = batch[0].to(device)\n",
    "        objects_ = batch[1].to(device)\n",
    "        target = batch[2].to(device)\n",
    "        output = model(subjects_, objects_)\n",
    "        loss = criterion(output, target)\n",
    "        average_loss += loss.item()\n",
    "        loss.backward()\n",
    "        optimizer.step()\n",
    "    average_loss = average_loss / len(train_dataloader)\n",
    "    print('Epoch {epoch} ===> Loss: {avg_loss:.3f}'.format(epoch=epoch+1, avg_loss=average_loss))"
   ]
  },
  {
   "cell_type": "code",
   "execution_count": 10,
   "metadata": {},
   "outputs": [
    {
     "data": {
      "text/plain": [
       "torch.Size([10873, 150])"
      ]
     },
     "execution_count": 10,
     "metadata": {},
     "output_type": "execute_result"
    }
   ],
   "source": [
    "subjects.shape"
   ]
  },
  {
   "cell_type": "code",
   "execution_count": 11,
   "metadata": {},
   "outputs": [
    {
     "name": "stdout",
     "output_type": "stream",
     "text": [
      "===== Avg. Accuracy: 0.16 ======\n",
      "===== Avg. Recall: 1.0 ======\n",
      "===== Avg. Precision: 0.16 ======\n"
     ]
    }
   ],
   "source": [
    "model.eval()\n",
    "avg_accuracy = 0\n",
    "avg_recall = 0\n",
    "avg_precision = 0\n",
    "for i in range(100):\n",
    "    subject = torch.reshape(subjects[i], (1, subjects[i].shape[0]))\n",
    "    obj = torch.reshape(objects[i], (1, objects[i].shape[0]))\n",
    "    subject.to(device=device)\n",
    "    obj.to(device=device)\n",
    "    output = model(subject, obj)[0]\n",
    "    # print(output)\n",
    "    target = relations[i]\n",
    "    tp = 0\n",
    "    tn = 0\n",
    "    fp = 0\n",
    "    fn = 0 \n",
    "    for i in range(50):\n",
    "        if target[i] == 1 and output[i] == 1:\n",
    "            tp += 1\n",
    "        elif target[i] == 1 and output[i] == 0:\n",
    "            fn += 1\n",
    "        elif target[i] == 0 and output[i] == 0:\n",
    "            tn += 1\n",
    "        else:\n",
    "            fp += 1\n",
    "\n",
    "    accuracy = tp/(tp+tn+fp+fn)\n",
    "    recall = tp/(tp+fn)\n",
    "    precision = tp/(tp+fp)\n",
    "    avg_accuracy += accuracy\n",
    "    avg_recall += recall\n",
    "    avg_precision += precision\n",
    "avg_accuracy /= 100\n",
    "avg_recall /= 100\n",
    "avg_precision /= 100\n",
    "\n",
    "print('===== Avg. Accuracy: {accuracy:.2f} ======'.format(accuracy=avg_accuracy))\n",
    "print('===== Avg. Recall: {recall} ======'.format(recall=avg_recall))\n",
    "print('===== Avg. Precision: {precision:.2f} ======'.format(precision=avg_precision))"
   ]
  },
  {
   "cell_type": "code",
   "execution_count": null,
   "metadata": {},
   "outputs": [],
   "source": []
  }
 ],
 "metadata": {
  "kernelspec": {
   "display_name": "prpoject",
   "language": "python",
   "name": "python3"
  },
  "language_info": {
   "codemirror_mode": {
    "name": "ipython",
    "version": 3
   },
   "file_extension": ".py",
   "mimetype": "text/x-python",
   "name": "python",
   "nbconvert_exporter": "python",
   "pygments_lexer": "ipython3",
   "version": "3.10.13"
  }
 },
 "nbformat": 4,
 "nbformat_minor": 2
}
